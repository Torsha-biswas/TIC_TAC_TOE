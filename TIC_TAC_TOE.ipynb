{
 "cells": [
  {
   "cell_type": "markdown",
   "id": "7a97adb2-7354-4f9a-92b8-b71cf11e018f",
   "metadata": {},
   "source": [
    "TIC_TAC_TOE_USING_PYTHON"
   ]
  },
  {
   "cell_type": "code",
   "execution_count": 1,
   "id": "4367164b-c6c3-49d4-aeac-a97bb091dd6f",
   "metadata": {},
   "outputs": [
    {
     "name": "stdout",
     "output_type": "stream",
     "text": [
      "  |   |  \n",
      "-----\n",
      "  |   |  \n",
      "-----\n",
      "  |   |  \n",
      "-----\n",
      "Player X's turn\n"
     ]
    },
    {
     "name": "stdin",
     "output_type": "stream",
     "text": [
      "Enter row number (0-2):  1\n",
      "Enter column number (0-2):  1\n"
     ]
    },
    {
     "name": "stdout",
     "output_type": "stream",
     "text": [
      "  |   |  \n",
      "-----\n",
      "  | X |  \n",
      "-----\n",
      "  |   |  \n",
      "-----\n",
      "Player O's turn\n"
     ]
    },
    {
     "name": "stdin",
     "output_type": "stream",
     "text": [
      "Enter row number (0-2):  0\n",
      "Enter column number (0-2):  0\n"
     ]
    },
    {
     "name": "stdout",
     "output_type": "stream",
     "text": [
      "O |   |  \n",
      "-----\n",
      "  | X |  \n",
      "-----\n",
      "  |   |  \n",
      "-----\n",
      "Player X's turn\n"
     ]
    },
    {
     "name": "stdin",
     "output_type": "stream",
     "text": [
      "Enter row number (0-2):  1\n",
      "Enter column number (0-2):  0\n"
     ]
    },
    {
     "name": "stdout",
     "output_type": "stream",
     "text": [
      "O |   |  \n",
      "-----\n",
      "X | X |  \n",
      "-----\n",
      "  |   |  \n",
      "-----\n",
      "Player O's turn\n"
     ]
    },
    {
     "name": "stdin",
     "output_type": "stream",
     "text": [
      "Enter row number (0-2):  0\n",
      "Enter column number (0-2):  1\n"
     ]
    },
    {
     "name": "stdout",
     "output_type": "stream",
     "text": [
      "O | O |  \n",
      "-----\n",
      "X | X |  \n",
      "-----\n",
      "  |   |  \n",
      "-----\n",
      "Player X's turn\n"
     ]
    },
    {
     "name": "stdin",
     "output_type": "stream",
     "text": [
      "Enter row number (0-2):  0\n",
      "Enter column number (0-2):  2\n"
     ]
    },
    {
     "name": "stdout",
     "output_type": "stream",
     "text": [
      "O | O | X\n",
      "-----\n",
      "X | X |  \n",
      "-----\n",
      "  |   |  \n",
      "-----\n",
      "Player O's turn\n"
     ]
    },
    {
     "name": "stdin",
     "output_type": "stream",
     "text": [
      "Enter row number (0-2):  2\n",
      "Enter column number (0-2):  1\n"
     ]
    },
    {
     "name": "stdout",
     "output_type": "stream",
     "text": [
      "O | O | X\n",
      "-----\n",
      "X | X |  \n",
      "-----\n",
      "  | O |  \n",
      "-----\n",
      "Player X's turn\n"
     ]
    },
    {
     "name": "stdin",
     "output_type": "stream",
     "text": [
      "Enter row number (0-2):  2\n",
      "Enter column number (0-2):  0\n"
     ]
    },
    {
     "name": "stdout",
     "output_type": "stream",
     "text": [
      "O | O | X\n",
      "-----\n",
      "X | X |  \n",
      "-----\n",
      "X | O |  \n",
      "-----\n",
      "Player X wins!\n"
     ]
    }
   ],
   "source": [
    "def print_board(board):\n",
    "    for row in board:\n",
    "        print(\" | \".join(row))\n",
    "        print(\"-\" * 5)\n",
    "\n",
    "def check_win(board, player):\n",
    "    # Check rows\n",
    "    for row in board:\n",
    "        if all(cell == player for cell in row):\n",
    "            return True\n",
    "    # Check columns\n",
    "    for col in range(3):\n",
    "        if all(board[row][col] == player for row in range(3)):\n",
    "            return True\n",
    "    # Check diagonals\n",
    "    if all(board[i][i] == player for i in range(3)) or all(board[i][2-i] == player for i in range(3)):\n",
    "        return True\n",
    "    return False\n",
    "\n",
    "def is_draw(board):\n",
    "    return all(cell != \" \" for row in board for cell in row)\n",
    "\n",
    "def tic_tac_toe():\n",
    "    board = [[\" \" for _ in range(3)] for _ in range(3)]\n",
    "    players = [\"X\", \"O\"]\n",
    "    current_player = 0\n",
    "    \n",
    "    while True:\n",
    "        print_board(board)\n",
    "        player_symbol = players[current_player]\n",
    "        print(f\"Player {player_symbol}'s turn\")\n",
    "        row = int(input(\"Enter row number (0-2): \"))\n",
    "        col = int(input(\"Enter column number (0-2): \"))\n",
    "        \n",
    "        if 0 <= row <= 2 and 0 <= col <= 2 and board[row][col] == \" \":\n",
    "            board[row][col] = player_symbol\n",
    "            if check_win(board, player_symbol):\n",
    "                print_board(board)\n",
    "                print(f\"Player {player_symbol} wins!\")\n",
    "                break\n",
    "            elif is_draw(board):\n",
    "                print_board(board)\n",
    "                print(\"It's a draw!\")\n",
    "                break\n",
    "            else:\n",
    "                current_player = (current_player + 1) % 2\n",
    "        else:\n",
    "            print(\"Invalid move. Try again.\")\n",
    "\n",
    "if __name__ == \"__main__\":\n",
    "    tic_tac_toe()\n"
   ]
  },
  {
   "cell_type": "code",
   "execution_count": null,
   "id": "b9860cca-37fd-4794-a6fa-4023785baec8",
   "metadata": {},
   "outputs": [],
   "source": []
  }
 ],
 "metadata": {
  "kernelspec": {
   "display_name": "Python 3 (ipykernel)",
   "language": "python",
   "name": "python3"
  },
  "language_info": {
   "codemirror_mode": {
    "name": "ipython",
    "version": 3
   },
   "file_extension": ".py",
   "mimetype": "text/x-python",
   "name": "python",
   "nbconvert_exporter": "python",
   "pygments_lexer": "ipython3",
   "version": "3.11.4"
  }
 },
 "nbformat": 4,
 "nbformat_minor": 5
}
